{
 "metadata": {
  "name": "",
  "signature": "sha256:6e0b9f8198f9549fb62624caf00296ae6e068dabf50bc3fb906d0f54168f017b"
 },
 "nbformat": 3,
 "nbformat_minor": 0,
 "worksheets": []
}